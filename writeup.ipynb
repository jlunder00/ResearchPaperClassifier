{
 "cells": [
  {
   "cell_type": "code",
   "execution_count": null,
   "metadata": {},
   "outputs": [],
   "source": []
  },
  {
   "attachments": {},
   "cell_type": "markdown",
   "metadata": {},
   "source": [
    "# Research Paper Classifier"
   ]
  },
  {
   "attachments": {},
   "cell_type": "markdown",
   "metadata": {},
   "source": [
    "## Getting Started"
   ]
  },
  {
   "attachments": {},
   "cell_type": "markdown",
   "metadata": {},
   "source": [
    "1. make a new python virtual environment\n",
    "1. activate it\n",
    "1. run pip install -r requirements.txt\n",
    "\n"
   ]
  },
  {
   "attachments": {},
   "cell_type": "markdown",
   "metadata": {},
   "source": []
  },
  {
   "attachments": {},
   "cell_type": "markdown",
   "metadata": {},
   "source": [
    "### Data preprocesing\n",
    "\n",
    "1. download the dataset: https://www.kaggle.com/datasets/1b6883fb66c5e7f67c697c2547022cc04c9ee98c3742f9a4d6c671b4f4eda591?resource=download\n",
    "1. extract and copy the file \"arxiv-metadata-oai-snapshot.json\" to \"arXiv_processor/data/\" and \"gans/data/\"\n",
    "1. run `python arXiv_processor/data_cleaning.py`\n",
    "1. ensure that the output file \"with_titles_and_abstract.json\", is in gans/data/\n",
    "1. open the notebook \"gans/prep_data.ipynb\" (connect your venv as the kernel)\n",
    "1. run all cells to take a subsample of data and save it\n",
    "1. open the notebook \"gans/gpt2_data_preprocessing.ipynb\" and run all cells to prep the transformer dataset(s) for training"
   ]
  },
  {
   "attachments": {},
   "cell_type": "markdown",
   "metadata": {},
   "source": [
    "### Finetuning\n",
    "1. after data preprocessing, in \"gans/\", run `finetune_gpt2_train_script.py`\n",
    "1. This will take a long time and you need a good gpu for it."
   ]
  },
  {
   "attachments": {},
   "cell_type": "markdown",
   "metadata": {},
   "source": [
    "### Gans Training\n",
    "1. after finetuning gpt2, run `training.py`\n",
    "1. this will also take a long time and you need a very good gpu for it."
   ]
  },
  {
   "attachments": {},
   "cell_type": "markdown",
   "metadata": {},
   "source": []
  }
 ],
 "metadata": {
  "language_info": {
   "name": "python"
  },
  "orig_nbformat": 4
 },
 "nbformat": 4,
 "nbformat_minor": 2
}
