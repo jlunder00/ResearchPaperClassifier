{
 "cells": [
  {
   "cell_type": "code",
   "execution_count": 1,
   "metadata": {},
   "outputs": [],
   "source": [
    "import json\n",
    "from sklearn.model_selection import train_test_split\n",
    "import pandas as pd\n",
    "import re\n"
   ]
  },
  {
   "cell_type": "code",
   "execution_count": 2,
   "metadata": {},
   "outputs": [],
   "source": [
    "with open('data/with_titles_and_abstract.json', 'r') as fin:\n",
    "    data = json.load(fin)"
   ]
  },
  {
   "cell_type": "code",
   "execution_count": 3,
   "metadata": {},
   "outputs": [],
   "source": [
    "df = pd.DataFrame(data)"
   ]
  },
  {
   "cell_type": "code",
   "execution_count": 4,
   "metadata": {},
   "outputs": [],
   "source": [
    "columns_to_drop = [col for col in df.columns if col not in ['title', 'abstract']]\n",
    "\n",
    "df = df.drop(columns=columns_to_drop, axis=1)"
   ]
  },
  {
   "cell_type": "code",
   "execution_count": 5,
   "metadata": {},
   "outputs": [],
   "source": [
    "df = df.sample(frac=0.01)"
   ]
  },
  {
   "cell_type": "code",
   "execution_count": 6,
   "metadata": {},
   "outputs": [],
   "source": [
    "with open('data/data_subset.json', 'w') as f:\n",
    "    json.dump(df.to_json(), f)\n",
    "    \n",
    "    "
   ]
  },
  {
   "cell_type": "code",
   "execution_count": 8,
   "metadata": {},
   "outputs": [],
   "source": [
    "df.to_json('data/data_subset.json')"
   ]
  },
  {
   "cell_type": "code",
   "execution_count": 9,
   "metadata": {},
   "outputs": [
    {
     "data": {
      "text/html": [
       "<div>\n",
       "<style scoped>\n",
       "    .dataframe tbody tr th:only-of-type {\n",
       "        vertical-align: middle;\n",
       "    }\n",
       "\n",
       "    .dataframe tbody tr th {\n",
       "        vertical-align: top;\n",
       "    }\n",
       "\n",
       "    .dataframe thead th {\n",
       "        text-align: right;\n",
       "    }\n",
       "</style>\n",
       "<table border=\"1\" class=\"dataframe\">\n",
       "  <thead>\n",
       "    <tr style=\"text-align: right;\">\n",
       "      <th></th>\n",
       "      <th>title</th>\n",
       "      <th>abstract</th>\n",
       "    </tr>\n",
       "  </thead>\n",
       "  <tbody>\n",
       "    <tr>\n",
       "      <th>1457742</th>\n",
       "      <td>Gauged Lepton Number, Dirac Neutrinos, Dark Ma...</td>\n",
       "      <td>Lepton number is promoted to an $U(1)_L$ gau...</td>\n",
       "    </tr>\n",
       "    <tr>\n",
       "      <th>968455</th>\n",
       "      <td>Excitation transfer from Second to First reson...</td>\n",
       "      <td>We present experimental investigation on the...</td>\n",
       "    </tr>\n",
       "    <tr>\n",
       "      <th>1424508</th>\n",
       "      <td>A Thorough View of Exact Inference in Graphs f...</td>\n",
       "      <td>Performing inference in graphs is a common t...</td>\n",
       "    </tr>\n",
       "    <tr>\n",
       "      <th>1977598</th>\n",
       "      <td>Finite Temperature Field Theory of \"Extreme Bl...</td>\n",
       "      <td>We treat the model which describes \"extreme ...</td>\n",
       "    </tr>\n",
       "    <tr>\n",
       "      <th>1416304</th>\n",
       "      <td>Exponential Ergodicity for Non-Dissipative McK...</td>\n",
       "      <td>Under Lyapunov and monotone conditions, the ...</td>\n",
       "    </tr>\n",
       "    <tr>\n",
       "      <th>...</th>\n",
       "      <td>...</td>\n",
       "      <td>...</td>\n",
       "    </tr>\n",
       "    <tr>\n",
       "      <th>139356</th>\n",
       "      <td>CMB Lensing Constraints on Dark Energy and Mod...</td>\n",
       "      <td>Weak gravitational lensing leaves a characte...</td>\n",
       "    </tr>\n",
       "    <tr>\n",
       "      <th>1864887</th>\n",
       "      <td>COSMOGRAIL: the COSmological MOnitoring of GRA...</td>\n",
       "      <td>Aims: The knowledge of the redshift of a len...</td>\n",
       "    </tr>\n",
       "    <tr>\n",
       "      <th>211607</th>\n",
       "      <td>Properties of the Planetary Caustic Perturbation</td>\n",
       "      <td>Just two of 10 extrasolar planets found by m...</td>\n",
       "    </tr>\n",
       "    <tr>\n",
       "      <th>227640</th>\n",
       "      <td>The Fluid/Gravity Correspondence: a new perspe...</td>\n",
       "      <td>This talk gives an overview of the recently-...</td>\n",
       "    </tr>\n",
       "    <tr>\n",
       "      <th>2208877</th>\n",
       "      <td>Generation of entangled states of two atoms in...</td>\n",
       "      <td>An in-depth theoretical study is carried out...</td>\n",
       "    </tr>\n",
       "  </tbody>\n",
       "</table>\n",
       "<p>22235 rows × 2 columns</p>\n",
       "</div>"
      ],
      "text/plain": [
       "                                                     title   \n",
       "1457742  Gauged Lepton Number, Dirac Neutrinos, Dark Ma...  \\\n",
       "968455   Excitation transfer from Second to First reson...   \n",
       "1424508  A Thorough View of Exact Inference in Graphs f...   \n",
       "1977598  Finite Temperature Field Theory of \"Extreme Bl...   \n",
       "1416304  Exponential Ergodicity for Non-Dissipative McK...   \n",
       "...                                                    ...   \n",
       "139356   CMB Lensing Constraints on Dark Energy and Mod...   \n",
       "1864887  COSMOGRAIL: the COSmological MOnitoring of GRA...   \n",
       "211607    Properties of the Planetary Caustic Perturbation   \n",
       "227640   The Fluid/Gravity Correspondence: a new perspe...   \n",
       "2208877  Generation of entangled states of two atoms in...   \n",
       "\n",
       "                                                  abstract  \n",
       "1457742    Lepton number is promoted to an $U(1)_L$ gau...  \n",
       "968455     We present experimental investigation on the...  \n",
       "1424508    Performing inference in graphs is a common t...  \n",
       "1977598    We treat the model which describes \"extreme ...  \n",
       "1416304    Under Lyapunov and monotone conditions, the ...  \n",
       "...                                                    ...  \n",
       "139356     Weak gravitational lensing leaves a characte...  \n",
       "1864887    Aims: The knowledge of the redshift of a len...  \n",
       "211607     Just two of 10 extrasolar planets found by m...  \n",
       "227640     This talk gives an overview of the recently-...  \n",
       "2208877    An in-depth theoretical study is carried out...  \n",
       "\n",
       "[22235 rows x 2 columns]"
      ]
     },
     "execution_count": 9,
     "metadata": {},
     "output_type": "execute_result"
    }
   ],
   "source": [
    "pd.read_json('data/data_subset.json')"
   ]
  },
  {
   "cell_type": "code",
   "execution_count": 31,
   "metadata": {},
   "outputs": [],
   "source": [
    "\n",
    "train_test_ratio = 0.9\n",
    "train_valid_ratio = 7/9\n",
    "df_full_train, df_test = train_test_split(df, train_size = train_test_ratio, random_state = 1)\n",
    "df_train, df_valid = train_test_split(df_full_train, train_size = train_valid_ratio, random_state = 1)"
   ]
  },
  {
   "cell_type": "code",
   "execution_count": 32,
   "metadata": {},
   "outputs": [],
   "source": [
    "import random\n",
    "\n",
    "def build_dataset(df, dest_path):\n",
    "    f = open(dest_path, 'w')\n",
    "    data = ''\n",
    "    abstracts = df['abstract'].tolist()\n",
    "    titles = df['title'].tolist()\n",
    "    datapoints = [titles[i]+': '+abstracts[i] for i in range(len(titles))]\n",
    "    for item in datapoints:\n",
    "        if random.random() < 1:\n",
    "            item = str(item).strip()\n",
    "            item = re.sub(r\"\\s\", \" \", item)\n",
    "            bos_token = '<|endoftext|>'\n",
    "            eos_token = '<|endoftext|>'\n",
    "            data += bos_token + ' ' + item + ' ' + eos_token + '\\n'\n",
    "        \n",
    "    f.write(data)\n"
   ]
  },
  {
   "cell_type": "code",
   "execution_count": 33,
   "metadata": {},
   "outputs": [],
   "source": [
    "build_dataset(df_train, 'data/gpt2_train.txt')\n",
    "build_dataset(df_valid, 'data/gpt2_valid.txt')\n",
    "build_dataset(df_test, 'data/gpt2_test.txt')"
   ]
  },
  {
   "cell_type": "code",
   "execution_count": 34,
   "metadata": {},
   "outputs": [
    {
     "data": {
      "text/plain": [
       "Index(['title', 'abstract'], dtype='object')"
      ]
     },
     "execution_count": 34,
     "metadata": {},
     "output_type": "execute_result"
    }
   ],
   "source": [
    "df.columns"
   ]
  },
  {
   "cell_type": "code",
   "execution_count": null,
   "metadata": {},
   "outputs": [],
   "source": []
  },
  {
   "cell_type": "code",
   "execution_count": 35,
   "metadata": {},
   "outputs": [],
   "source": [
    "df_train.to_json('data/train_small_best.json')\n",
    "df_test.to_json('data/test_small_best.json')\n",
    "df_valid.to_json('data/valid_small_best.json')"
   ]
  },
  {
   "cell_type": "code",
   "execution_count": null,
   "metadata": {},
   "outputs": [],
   "source": []
  },
  {
   "cell_type": "code",
   "execution_count": null,
   "metadata": {},
   "outputs": [],
   "source": []
  },
  {
   "cell_type": "code",
   "execution_count": 36,
   "metadata": {},
   "outputs": [],
   "source": [
    "def build_json_dataset(df, path):\n",
    "    with open(path, 'w') as fout:\n",
    "        for i in df['title'].keys():\n",
    "            item = {'title':df['title'][i], 'abstract':df['abstract'][i]}\n",
    "            fout.write(json.dumps(item)+'\\n')"
   ]
  },
  {
   "cell_type": "code",
   "execution_count": 37,
   "metadata": {},
   "outputs": [],
   "source": [
    "build_json_dataset(df_train, 'data/train_small_best.json')\n",
    "build_json_dataset(df_valid, 'data/valid_small_best.json')\n",
    "build_json_dataset(df_test, 'data/test_small_best.json')"
   ]
  },
  {
   "cell_type": "code",
   "execution_count": 38,
   "metadata": {},
   "outputs": [
    {
     "data": {
      "text/plain": [
       "'{\"title\": \"Bulges\", \"abstract\": \"  We model the evolution of the galactic bulge and of the bulges of a selected\\\\nsample of external spiral galaxies, via the multiphase multizone evolution\\\\nmodel. We address a few questions concerning the role of the bulges within\\\\ngalactic evolution schemes and the properties of bulge stellar populations. We\\\\nprovide solutions to the problems of chemical abundances and spectral indices,\\\\nthe two main observational constraints to bulge structure.\\\\n\"}'"
      ]
     },
     "execution_count": 38,
     "metadata": {},
     "output_type": "execute_result"
    }
   ],
   "source": [
    "json.dumps({'title':df_train['title'][list(df_train['title'].keys())[0]], 'abstract':df_train['abstract'][list(df_train['title'].keys())[0]]})"
   ]
  },
  {
   "attachments": {},
   "cell_type": "markdown",
   "metadata": {},
   "source": []
  },
  {
   "cell_type": "code",
   "execution_count": null,
   "metadata": {},
   "outputs": [],
   "source": [
    "df_train"
   ]
  },
  {
   "cell_type": "code",
   "execution_count": null,
   "metadata": {},
   "outputs": [],
   "source": [
    "d = df_train.to_dict()"
   ]
  },
  {
   "cell_type": "code",
   "execution_count": null,
   "metadata": {},
   "outputs": [],
   "source": [
    "list(d['title'].keys()) == list(d['abstract'].keys())"
   ]
  },
  {
   "cell_type": "code",
   "execution_count": null,
   "metadata": {},
   "outputs": [],
   "source": [
    "d['abstract']"
   ]
  },
  {
   "cell_type": "code",
   "execution_count": null,
   "metadata": {},
   "outputs": [],
   "source": [
    "from datasets import load_dataset\n",
    "\n",
    "train_set = load_dataset('json', data_files='data/train_small.json')"
   ]
  },
  {
   "cell_type": "code",
   "execution_count": null,
   "metadata": {},
   "outputs": [],
   "source": [
    "train_set"
   ]
  },
  {
   "cell_type": "code",
   "execution_count": null,
   "metadata": {},
   "outputs": [],
   "source": []
  }
 ],
 "metadata": {
  "kernelspec": {
   "display_name": "e",
   "language": "python",
   "name": "python3"
  },
  "language_info": {
   "codemirror_mode": {
    "name": "ipython",
    "version": 3
   },
   "file_extension": ".py",
   "mimetype": "text/x-python",
   "name": "python",
   "nbconvert_exporter": "python",
   "pygments_lexer": "ipython3",
   "version": "3.8.10"
  },
  "orig_nbformat": 4
 },
 "nbformat": 4,
 "nbformat_minor": 2
}
