{
 "cells": [
  {
   "cell_type": "code",
   "execution_count": 25,
   "metadata": {},
   "outputs": [],
   "source": [
    "import json\n",
    "from sklearn.model_selection import train_test_split\n",
    "import pandas as pd\n",
    "import re\n"
   ]
  },
  {
   "cell_type": "code",
   "execution_count": 26,
   "metadata": {},
   "outputs": [],
   "source": [
    "with open('data/with_titles_and_abstract.json', 'r') as fin:\n",
    "    data = json.load(fin)"
   ]
  },
  {
   "cell_type": "code",
   "execution_count": 27,
   "metadata": {},
   "outputs": [],
   "source": [
    "df = pd.DataFrame(data)"
   ]
  },
  {
   "cell_type": "code",
   "execution_count": 28,
   "metadata": {},
   "outputs": [],
   "source": [
    "columns_to_drop = [col for col in df.columns if col not in ['title', 'abstract']]\n",
    "\n",
    "df = df.drop(columns=columns_to_drop, axis=1)"
   ]
  },
  {
   "cell_type": "code",
   "execution_count": 29,
   "metadata": {},
   "outputs": [],
   "source": [
    "df = df.sample(frac=0.01)"
   ]
  },
  {
   "cell_type": "code",
   "execution_count": 30,
   "metadata": {},
   "outputs": [
    {
     "data": {
      "text/html": [
       "<div>\n",
       "<style scoped>\n",
       "    .dataframe tbody tr th:only-of-type {\n",
       "        vertical-align: middle;\n",
       "    }\n",
       "\n",
       "    .dataframe tbody tr th {\n",
       "        vertical-align: top;\n",
       "    }\n",
       "\n",
       "    .dataframe thead th {\n",
       "        text-align: right;\n",
       "    }\n",
       "</style>\n",
       "<table border=\"1\" class=\"dataframe\">\n",
       "  <thead>\n",
       "    <tr style=\"text-align: right;\">\n",
       "      <th></th>\n",
       "      <th>title</th>\n",
       "      <th>abstract</th>\n",
       "    </tr>\n",
       "  </thead>\n",
       "  <tbody>\n",
       "    <tr>\n",
       "      <th>1483493</th>\n",
       "      <td>GRASP: Graph Alignment through Spectral Signat...</td>\n",
       "      <td>What is the best way to match the nodes of t...</td>\n",
       "    </tr>\n",
       "    <tr>\n",
       "      <th>1839264</th>\n",
       "      <td>Chandra observations of five X-ray transient g...</td>\n",
       "      <td>We report on exploratory Chandra observation...</td>\n",
       "    </tr>\n",
       "    <tr>\n",
       "      <th>1532927</th>\n",
       "      <td>Distributed Mission Planning of Complex Tasks ...</td>\n",
       "      <td>In this paper, we propose a distributed mult...</td>\n",
       "    </tr>\n",
       "    <tr>\n",
       "      <th>1514342</th>\n",
       "      <td>Second order estimates for augment Hessian equ...</td>\n",
       "      <td>The author extends previous results to gener...</td>\n",
       "    </tr>\n",
       "    <tr>\n",
       "      <th>719031</th>\n",
       "      <td>A machine-learning approach to measuring the e...</td>\n",
       "      <td>Recent observations of galaxies at $z \\gtrsi...</td>\n",
       "    </tr>\n",
       "    <tr>\n",
       "      <th>...</th>\n",
       "      <td>...</td>\n",
       "      <td>...</td>\n",
       "    </tr>\n",
       "    <tr>\n",
       "      <th>405968</th>\n",
       "      <td>Hydrogen atom as a quantum-classical hybrid sy...</td>\n",
       "      <td>Hydrogen atom is studied as a quantum-classi...</td>\n",
       "    </tr>\n",
       "    <tr>\n",
       "      <th>1813772</th>\n",
       "      <td>Serendipitous 2MASS Discoveries Near the Galac...</td>\n",
       "      <td>We present the basic properties of three obj...</td>\n",
       "    </tr>\n",
       "    <tr>\n",
       "      <th>1712006</th>\n",
       "      <td>Multiple View Performers for Shape Completion</td>\n",
       "      <td>We propose the Multiple View Performer (MVP)...</td>\n",
       "    </tr>\n",
       "    <tr>\n",
       "      <th>1600406</th>\n",
       "      <td>A Psychoacoustic Quality Criterion for Path-Tr...</td>\n",
       "      <td>In developing virtual acoustic environments,...</td>\n",
       "    </tr>\n",
       "    <tr>\n",
       "      <th>74504</th>\n",
       "      <td>Controlling Irreversibility and Directional Fl...</td>\n",
       "      <td>The Doppler effect of moving atoms can creat...</td>\n",
       "    </tr>\n",
       "  </tbody>\n",
       "</table>\n",
       "<p>22235 rows × 2 columns</p>\n",
       "</div>"
      ],
      "text/plain": [
       "                                                     title   \n",
       "1483493  GRASP: Graph Alignment through Spectral Signat...  \\\n",
       "1839264  Chandra observations of five X-ray transient g...   \n",
       "1532927  Distributed Mission Planning of Complex Tasks ...   \n",
       "1514342  Second order estimates for augment Hessian equ...   \n",
       "719031   A machine-learning approach to measuring the e...   \n",
       "...                                                    ...   \n",
       "405968   Hydrogen atom as a quantum-classical hybrid sy...   \n",
       "1813772  Serendipitous 2MASS Discoveries Near the Galac...   \n",
       "1712006      Multiple View Performers for Shape Completion   \n",
       "1600406  A Psychoacoustic Quality Criterion for Path-Tr...   \n",
       "74504    Controlling Irreversibility and Directional Fl...   \n",
       "\n",
       "                                                  abstract  \n",
       "1483493    What is the best way to match the nodes of t...  \n",
       "1839264    We report on exploratory Chandra observation...  \n",
       "1532927    In this paper, we propose a distributed mult...  \n",
       "1514342    The author extends previous results to gener...  \n",
       "719031     Recent observations of galaxies at $z \\gtrsi...  \n",
       "...                                                    ...  \n",
       "405968     Hydrogen atom is studied as a quantum-classi...  \n",
       "1813772    We present the basic properties of three obj...  \n",
       "1712006    We propose the Multiple View Performer (MVP)...  \n",
       "1600406    In developing virtual acoustic environments,...  \n",
       "74504      The Doppler effect of moving atoms can creat...  \n",
       "\n",
       "[22235 rows x 2 columns]"
      ]
     },
     "execution_count": 30,
     "metadata": {},
     "output_type": "execute_result"
    }
   ],
   "source": [
    "df"
   ]
  },
  {
   "cell_type": "code",
   "execution_count": 31,
   "metadata": {},
   "outputs": [],
   "source": [
    "\n",
    "train_test_ratio = 0.9\n",
    "train_valid_ratio = 7/9\n",
    "df_full_train, df_test = train_test_split(df, train_size = train_test_ratio, random_state = 1)\n",
    "df_train, df_valid = train_test_split(df_full_train, train_size = train_valid_ratio, random_state = 1)"
   ]
  },
  {
   "cell_type": "code",
   "execution_count": 32,
   "metadata": {},
   "outputs": [],
   "source": [
    "import random\n",
    "\n",
    "def build_dataset(df, dest_path):\n",
    "    f = open(dest_path, 'w')\n",
    "    data = ''\n",
    "    abstracts = df['abstract'].tolist()\n",
    "    titles = df['title'].tolist()\n",
    "    datapoints = [titles[i]+': '+abstracts[i] for i in range(len(titles))]\n",
    "    for item in datapoints:\n",
    "        if random.random() < 1:\n",
    "            item = str(item).strip()\n",
    "            item = re.sub(r\"\\s\", \" \", item)\n",
    "            bos_token = '<|endoftext|>'\n",
    "            eos_token = '<|endoftext|>'\n",
    "            data += bos_token + ' ' + item + ' ' + eos_token + '\\n'\n",
    "        \n",
    "    f.write(data)\n"
   ]
  },
  {
   "cell_type": "code",
   "execution_count": 33,
   "metadata": {},
   "outputs": [],
   "source": [
    "build_dataset(df_train, 'data/gpt2_train.txt')\n",
    "build_dataset(df_valid, 'data/gpt2_valid.txt')\n",
    "build_dataset(df_test, 'data/gpt2_test.txt')"
   ]
  },
  {
   "cell_type": "code",
   "execution_count": 34,
   "metadata": {},
   "outputs": [
    {
     "data": {
      "text/plain": [
       "Index(['title', 'abstract'], dtype='object')"
      ]
     },
     "execution_count": 34,
     "metadata": {},
     "output_type": "execute_result"
    }
   ],
   "source": [
    "df.columns"
   ]
  },
  {
   "cell_type": "code",
   "execution_count": null,
   "metadata": {},
   "outputs": [],
   "source": []
  },
  {
   "cell_type": "code",
   "execution_count": 35,
   "metadata": {},
   "outputs": [],
   "source": [
    "df_train.to_json('data/train_small_best.json')\n",
    "df_test.to_json('data/test_small_best.json')\n",
    "df_valid.to_json('data/valid_small_best.json')"
   ]
  },
  {
   "cell_type": "code",
   "execution_count": null,
   "metadata": {},
   "outputs": [],
   "source": []
  },
  {
   "cell_type": "code",
   "execution_count": null,
   "metadata": {},
   "outputs": [],
   "source": []
  },
  {
   "cell_type": "code",
   "execution_count": 36,
   "metadata": {},
   "outputs": [],
   "source": [
    "def build_json_dataset(df, path):\n",
    "    with open(path, 'w') as fout:\n",
    "        for i in df['title'].keys():\n",
    "            item = {'title':df['title'][i], 'abstract':df['abstract'][i]}\n",
    "            fout.write(json.dumps(item)+'\\n')"
   ]
  },
  {
   "cell_type": "code",
   "execution_count": 37,
   "metadata": {},
   "outputs": [],
   "source": [
    "build_json_dataset(df_train, 'data/train_small_best.json')\n",
    "build_json_dataset(df_valid, 'data/valid_small_best.json')\n",
    "build_json_dataset(df_test, 'data/test_small_best.json')"
   ]
  },
  {
   "cell_type": "code",
   "execution_count": 38,
   "metadata": {},
   "outputs": [
    {
     "data": {
      "text/plain": [
       "'{\"title\": \"Bulges\", \"abstract\": \"  We model the evolution of the galactic bulge and of the bulges of a selected\\\\nsample of external spiral galaxies, via the multiphase multizone evolution\\\\nmodel. We address a few questions concerning the role of the bulges within\\\\ngalactic evolution schemes and the properties of bulge stellar populations. We\\\\nprovide solutions to the problems of chemical abundances and spectral indices,\\\\nthe two main observational constraints to bulge structure.\\\\n\"}'"
      ]
     },
     "execution_count": 38,
     "metadata": {},
     "output_type": "execute_result"
    }
   ],
   "source": [
    "json.dumps({'title':df_train['title'][list(df_train['title'].keys())[0]], 'abstract':df_train['abstract'][list(df_train['title'].keys())[0]]})"
   ]
  },
  {
   "attachments": {},
   "cell_type": "markdown",
   "metadata": {},
   "source": []
  },
  {
   "cell_type": "code",
   "execution_count": null,
   "metadata": {},
   "outputs": [],
   "source": [
    "df_train"
   ]
  },
  {
   "cell_type": "code",
   "execution_count": null,
   "metadata": {},
   "outputs": [],
   "source": [
    "d = df_train.to_dict()"
   ]
  },
  {
   "cell_type": "code",
   "execution_count": null,
   "metadata": {},
   "outputs": [],
   "source": [
    "list(d['title'].keys()) == list(d['abstract'].keys())"
   ]
  },
  {
   "cell_type": "code",
   "execution_count": null,
   "metadata": {},
   "outputs": [],
   "source": [
    "d['abstract']"
   ]
  },
  {
   "cell_type": "code",
   "execution_count": null,
   "metadata": {},
   "outputs": [],
   "source": [
    "from datasets import load_dataset\n",
    "\n",
    "train_set = load_dataset('json', data_files='data/train_small.json')"
   ]
  },
  {
   "cell_type": "code",
   "execution_count": null,
   "metadata": {},
   "outputs": [],
   "source": [
    "train_set"
   ]
  },
  {
   "cell_type": "code",
   "execution_count": null,
   "metadata": {},
   "outputs": [],
   "source": []
  }
 ],
 "metadata": {
  "kernelspec": {
   "display_name": "e",
   "language": "python",
   "name": "python3"
  },
  "language_info": {
   "codemirror_mode": {
    "name": "ipython",
    "version": 3
   },
   "file_extension": ".py",
   "mimetype": "text/x-python",
   "name": "python",
   "nbconvert_exporter": "python",
   "pygments_lexer": "ipython3",
   "version": "3.9.7"
  },
  "orig_nbformat": 4
 },
 "nbformat": 4,
 "nbformat_minor": 2
}
