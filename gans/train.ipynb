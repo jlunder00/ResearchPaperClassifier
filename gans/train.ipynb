{
 "cells": [
  {
   "cell_type": "code",
   "execution_count": 3,
   "metadata": {},
   "outputs": [
    {
     "name": "stderr",
     "output_type": "stream",
     "text": [
      "/home/toast/Documents/Research_Projects/papers/.venvs/environment/lib/python3.8/site-packages/requests/__init__.py:89: RequestsDependencyWarning: urllib3 (1.26.15) or chardet (3.0.4) doesn't match a supported version!\n",
      "  warnings.warn(\"urllib3 ({}) or chardet ({}) doesn't match a supported \"\n"
     ]
    }
   ],
   "source": [
    "from discriminator import SimpleDiscriminator\n",
    "from generator import SimpleGenerator\n",
    "from dataloader import AbstractDataset\n",
    "from torch.utils.data import DataLoader"
   ]
  },
  {
   "cell_type": "code",
   "execution_count": 4,
   "metadata": {},
   "outputs": [],
   "source": [
    "ntokens = 100\n",
    "data = AbstractDataset('data/with_num_citations.json', ntokens=ntokens, device='cuda')\n"
   ]
  },
  {
   "cell_type": "code",
   "execution_count": 5,
   "metadata": {},
   "outputs": [],
   "source": [
    "loader = iter(DataLoader(data, batch_size=1, shuffle=True, num_workers=6))\n"
   ]
  },
  {
   "cell_type": "code",
   "execution_count": 5,
   "metadata": {},
   "outputs": [],
   "source": [
    "D = SimpleDiscriminator(ntokens=ntokens, device='cuda')\n",
    "G = SimpleGenerator(ntokens=ntokens, device='cuda')\n",
    "\n",
    "for i in range(10000):\n",
    "    D.train(next(loader), torch.FloatTensor([1.0]).to('cuda'))\n",
    "    \n",
    "    D.train(G.forward(torch.FloatTensor([0.5]).to('cuda')).detach(), torch.FloatTensor([0.0]).to('cuda'))\n",
    "    \n",
    "    G.train(D, torch.FloatTensor([0.5]).to('cuda'), torch.FloatTensor([1.0]).to('cuda'))\n",
    "\n",
    "D.plot_progress()"
   ]
  },
  {
   "cell_type": "code",
   "execution_count": null,
   "metadata": {},
   "outputs": [],
   "source": []
  },
  {
   "cell_type": "code",
   "execution_count": null,
   "metadata": {},
   "outputs": [],
   "source": []
  },
  {
   "cell_type": "code",
   "execution_count": null,
   "metadata": {},
   "outputs": [],
   "source": []
  },
  {
   "cell_type": "code",
   "execution_count": null,
   "metadata": {},
   "outputs": [],
   "source": []
  }
 ],
 "metadata": {
  "kernelspec": {
   "display_name": "environment",
   "language": "python",
   "name": "python3"
  },
  "language_info": {
   "codemirror_mode": {
    "name": "ipython",
    "version": 3
   },
   "file_extension": ".py",
   "mimetype": "text/x-python",
   "name": "python",
   "nbconvert_exporter": "python",
   "pygments_lexer": "ipython3",
   "version": "3.8.10"
  },
  "orig_nbformat": 4
 },
 "nbformat": 4,
 "nbformat_minor": 2
}
