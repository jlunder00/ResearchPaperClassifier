{
 "cells": [
  {
   "cell_type": "code",
   "execution_count": 1,
   "metadata": {},
   "outputs": [],
   "source": [
    "from discriminator import SimpleDiscriminator\n",
    "from generator import SimpleGenerator\n",
    "from dataloader import AbstractDataset\n",
    "from torch.utils.data import DataLoader\n",
    "import torch"
   ]
  },
  {
   "cell_type": "code",
   "execution_count": 2,
   "metadata": {},
   "outputs": [],
   "source": [
    "ntokens = 100\n",
    "data = AbstractDataset('data/with_num_citations.json', ntokens=ntokens, device='cuda')\n",
    "loader = iter(DataLoader(data, batch_size=1, shuffle=True, num_workers=4))\n",
    "\n",
    "D = SimpleDiscriminator(ntokens=ntokens, device='cuda')\n",
    "G = SimpleGenerator(ntokens=ntokens, device='cuda')\n"
   ]
  },
  {
   "cell_type": "code",
   "execution_count": null,
   "metadata": {},
   "outputs": [],
   "source": [
    "\n",
    "for i in range(10000):\n",
    "    D.train(next(loader), torch.FloatTensor([1.0]).to('cuda'))\n",
    "    \n",
    "    D.train(G.forward(torch.FloatTensor([0.5]).to('cuda')).detach(), torch.FloatTensor([0.0]).to('cuda'))\n",
    "    \n",
    "    G.train(D, torch.FloatTensor([0.5]).to('cuda'), torch.FloatTensor([1.0]).to('cuda'))\n",
    "\n",
    "D.plot_progress()"
   ]
  }
 ],
 "metadata": {
  "kernelspec": {
   "display_name": "environment",
   "language": "python",
   "name": "python3"
  },
  "language_info": {
   "codemirror_mode": {
    "name": "ipython",
    "version": 3
   },
   "file_extension": ".py",
   "mimetype": "text/x-python",
   "name": "python",
   "nbconvert_exporter": "python",
   "pygments_lexer": "ipython3",
   "version": "3.9.7"
  },
  "orig_nbformat": 4
 },
 "nbformat": 4,
 "nbformat_minor": 2
}
