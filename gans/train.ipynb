{
 "cells": [
  {
   "cell_type": "code",
   "execution_count": 1,
   "metadata": {},
   "outputs": [
    {
     "name": "stderr",
     "output_type": "stream",
     "text": [
      "/home/toast/Documents/Research_Projects/papers/.venvs/environment/lib/python3.8/site-packages/requests/__init__.py:89: RequestsDependencyWarning: urllib3 (1.26.15) or chardet (3.0.4) doesn't match a supported version!\n",
      "  warnings.warn(\"urllib3 ({}) or chardet ({}) doesn't match a supported \"\n"
     ]
    }
   ],
   "source": [
    "from discriminator import SimpleDiscriminator\n",
    "from generator import SimpleGenerator\n",
    "from dataloader import AbstractDataset\n",
    "from torch.utils.data import DataLoader"
   ]
  },
  {
   "cell_type": "code",
   "execution_count": 2,
   "metadata": {},
   "outputs": [],
   "source": [
    "ntokens = 100\n",
    "data = AbstractDataset('data/with_num_citations.json', ntokens=ntokens, device='cuda')\n"
   ]
  },
  {
   "cell_type": "code",
   "execution_count": 3,
   "metadata": {},
   "outputs": [],
   "source": [
    "loader = iter(DataLoader(data, batch_size=1, shuffle=True, num_workers=6))\n"
   ]
  },
  {
   "cell_type": "code",
   "execution_count": 5,
   "metadata": {},
   "outputs": [
    {
     "ename": "NameError",
     "evalue": "name 'torch' is not defined",
     "output_type": "error",
     "traceback": [
      "\u001b[0;31m---------------------------------------------------------------------------\u001b[0m",
      "\u001b[0;31mNameError\u001b[0m                                 Traceback (most recent call last)",
      "Cell \u001b[0;32mIn[5], line 5\u001b[0m\n\u001b[1;32m      2\u001b[0m G \u001b[39m=\u001b[39m SimpleGenerator(ntokens\u001b[39m=\u001b[39mntokens, device\u001b[39m=\u001b[39m\u001b[39m'\u001b[39m\u001b[39mcuda\u001b[39m\u001b[39m'\u001b[39m)\n\u001b[1;32m      4\u001b[0m \u001b[39mfor\u001b[39;00m i \u001b[39min\u001b[39;00m \u001b[39mrange\u001b[39m(\u001b[39m10000\u001b[39m):\n\u001b[0;32m----> 5\u001b[0m     D\u001b[39m.\u001b[39mtrain(\u001b[39mnext\u001b[39m(loader), torch\u001b[39m.\u001b[39mFloatTensor([\u001b[39m1.0\u001b[39m])\u001b[39m.\u001b[39mto(\u001b[39m'\u001b[39m\u001b[39mcuda\u001b[39m\u001b[39m'\u001b[39m))\n\u001b[1;32m      7\u001b[0m     D\u001b[39m.\u001b[39mtrain(G\u001b[39m.\u001b[39mforward(torch\u001b[39m.\u001b[39mFloatTensor([\u001b[39m0.5\u001b[39m])\u001b[39m.\u001b[39mto(\u001b[39m'\u001b[39m\u001b[39mcuda\u001b[39m\u001b[39m'\u001b[39m))\u001b[39m.\u001b[39mdetach(), torch\u001b[39m.\u001b[39mFloatTensor([\u001b[39m0.0\u001b[39m])\u001b[39m.\u001b[39mto(\u001b[39m'\u001b[39m\u001b[39mcuda\u001b[39m\u001b[39m'\u001b[39m))\n\u001b[1;32m      9\u001b[0m     G\u001b[39m.\u001b[39mtrain(D, torch\u001b[39m.\u001b[39mFloatTensor([\u001b[39m0.5\u001b[39m])\u001b[39m.\u001b[39mto(\u001b[39m'\u001b[39m\u001b[39mcuda\u001b[39m\u001b[39m'\u001b[39m), torch\u001b[39m.\u001b[39mFloatTensor([\u001b[39m1.0\u001b[39m])\u001b[39m.\u001b[39mto(\u001b[39m'\u001b[39m\u001b[39mcuda\u001b[39m\u001b[39m'\u001b[39m))\n",
      "\u001b[0;31mNameError\u001b[0m: name 'torch' is not defined"
     ]
    }
   ],
   "source": [
    "D = SimpleDiscriminator(ntokens=ntokens, device='cuda')\n",
    "G = SimpleGenerator(ntokens=ntokens, device='cuda')\n",
    "\n",
    "for i in range(10000):\n",
    "    D.train(next(loader), torch.FloatTensor([1.0]).to('cuda'))\n",
    "    \n",
    "    D.train(G.forward(torch.FloatTensor([0.5]).to('cuda')).detach(), torch.FloatTensor([0.0]).to('cuda'))\n",
    "    \n",
    "    G.train(D, torch.FloatTensor([0.5]).to('cuda'), torch.FloatTensor([1.0]).to('cuda'))\n",
    "\n",
    "D.plot_progress()"
   ]
  },
  {
   "cell_type": "code",
   "execution_count": null,
   "metadata": {},
   "outputs": [],
   "source": []
  },
  {
   "cell_type": "code",
   "execution_count": null,
   "metadata": {},
   "outputs": [],
   "source": []
  },
  {
   "cell_type": "code",
   "execution_count": null,
   "metadata": {},
   "outputs": [],
   "source": []
  },
  {
   "cell_type": "code",
   "execution_count": null,
   "metadata": {},
   "outputs": [],
   "source": []
  }
 ],
 "metadata": {
  "kernelspec": {
   "display_name": "environment",
   "language": "python",
   "name": "python3"
  },
  "language_info": {
   "codemirror_mode": {
    "name": "ipython",
    "version": 3
   },
   "file_extension": ".py",
   "mimetype": "text/x-python",
   "name": "python",
   "nbconvert_exporter": "python",
   "pygments_lexer": "ipython3",
   "version": "3.8.10"
  },
  "orig_nbformat": 4
 },
 "nbformat": 4,
 "nbformat_minor": 2
}
