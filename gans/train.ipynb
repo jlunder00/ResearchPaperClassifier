{
 "cells": [
  {
   "cell_type": "code",
   "execution_count": 1,
   "metadata": {},
   "outputs": [],
   "source": [
    "from discriminator import SimpleDiscriminator\n",
    "from generator import SimpleGenerator\n",
    "from dataloader import AbstractDataset, collate_fn\n",
    "from torch.utils.data import DataLoader\n",
    "import torch"
   ]
  },
  {
   "cell_type": "code",
   "execution_count": 2,
   "metadata": {},
   "outputs": [],
   "source": [
    "abstract_tokens = 300\n",
    "title_tokens = 20\n",
    "data = AbstractDataset('data/small_with_titles_and_abstracts.json', abstract_tokens=abstract_tokens, title_tokens=title_tokens, device='cuda')\n",
    "loader = DataLoader(data, batch_size=1, shuffle=True, num_workers=1, collate_fn=collate_fn)\n",
    "\n",
    "D = SimpleDiscriminator(abstract_tokens=abstract_tokens, device='cuda')\n",
    "G = SimpleGenerator(title_tokens=title_tokens, abstract_tokens=abstract_tokens, device='cuda')\n"
   ]
  },
  {
   "cell_type": "code",
   "execution_count": 3,
   "metadata": {},
   "outputs": [
    {
     "name": "stdout",
     "output_type": "stream",
     "text": [
      "wait\n",
      "wait\n",
      "wait\n",
      "wait\n",
      "wait\n"
     ]
    },
    {
     "name": "stderr",
     "output_type": "stream",
     "text": [
      "ERROR:tornado.general:SEND Error: Host unreachable\n"
     ]
    }
   ],
   "source": [
    "print(\"wait\")\n",
    "print(\"wait\")\n",
    "print(\"wait\")\n",
    "print(\"wait\")\n",
    "print(\"wait\")\n",
    "for i, data in enumerate(loader):\n",
    "    titles = data['titles']\n",
    "    abstracts = data['abstracts']\n",
    "    D.train(abstracts, torch.FloatTensor([1.0, 0.0]).to('cuda'))\n",
    "    \n",
    "    D.train(G.forward(titles.detach()), torch.FloatTensor([0.0, 1.0]).to('cuda'))\n",
    "    \n",
    "    G.train(D, titles, torch.FloatTensor([1.0, 0.0]).to('cuda'))\n",
    "\n",
    "D.plot_progress()\n",
    "\n",
    "print('fuck you')"
   ]
  },
  {
   "cell_type": "code",
   "execution_count": 3,
   "metadata": {},
   "outputs": [
    {
     "data": {
      "text/plain": [
       "<torch.utils.data.dataloader.DataLoader at 0x7fb6fce32250>"
      ]
     },
     "execution_count": 3,
     "metadata": {},
     "output_type": "execute_result"
    }
   ],
   "source": [
    "loader"
   ]
  },
  {
   "cell_type": "code",
   "execution_count": 4,
   "metadata": {},
   "outputs": [
    {
     "name": "stderr",
     "output_type": "stream",
     "text": [
      "ERROR:tornado.general:SEND Error: Host unreachable\n"
     ]
    }
   ],
   "source": [
    "for i, data in enumerate(loader):\n",
    "    print(i, data)"
   ]
  },
  {
   "cell_type": "code",
   "execution_count": null,
   "metadata": {},
   "outputs": [],
   "source": []
  }
 ],
 "metadata": {
  "kernelspec": {
   "display_name": "e",
   "language": "python",
   "name": "python3"
  },
  "language_info": {
   "codemirror_mode": {
    "name": "ipython",
    "version": 3
   },
   "file_extension": ".py",
   "mimetype": "text/x-python",
   "name": "python",
   "nbconvert_exporter": "python",
   "pygments_lexer": "ipython3",
   "version": "3.9.7"
  },
  "orig_nbformat": 4
 },
 "nbformat": 4,
 "nbformat_minor": 2
}
